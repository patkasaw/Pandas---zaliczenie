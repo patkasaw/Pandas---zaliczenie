{
 "cells": [
  {
   "cell_type": "code",
   "execution_count": 215,
   "id": "b7603b16-0d55-442a-ad80-283b7322401a",
   "metadata": {},
   "outputs": [
    {
     "name": "stdout",
     "output_type": "stream",
     "text": [
      "<class 'pandas.core.frame.DataFrame'>\n",
      "Index: 10 entries, a to j\n",
      "Data columns (total 5 columns):\n",
      " #   Column    Non-Null Count  Dtype  \n",
      "---  ------    --------------  -----  \n",
      " 0   animal    10 non-null     object \n",
      " 1   name      10 non-null     object \n",
      " 2   age       8 non-null      float64\n",
      " 3   visits    10 non-null     int64  \n",
      " 4   priority  10 non-null     object \n",
      "dtypes: float64(1), int64(1), object(3)\n",
      "memory usage: 480.0+ bytes\n"
     ]
    }
   ],
   "source": [
    "#Zadanie 1:\n",
    "\n",
    "import numpy as np\n",
    "import pandas as pd\n",
    "\n",
    "data = {'animal': ['cat', 'cat', 'snake', 'dog', 'dog', 'cat', 'snake', 'cat', 'dog',\n",
    "        'dog'],\n",
    "        'name': ['Daisy', 'Bella', 'Noodle', 'Charlie', 'Max', 'Molly', 'Draco', 'Kenzo',\n",
    "        'Milo', 'Cooper'],\n",
    "        'age': [2.5, 3, 0.5, np.nan, 5, 2, 4.5, np.nan, 7, 3],\n",
    "        'visits': [1, 3, 2, 3, 2, 3, 1, 1, 2, 1],\n",
    "        'priority': ['yes', 'yes', 'no', 'yes', 'no', 'no', 'no', 'yes', 'no', 'no']}\n",
    "\n",
    "labels = ['a', 'b', 'c', 'd', 'e', 'f', 'g', 'h', 'i', 'j']\n",
    "\n",
    "animals = pd.DataFrame(data, index = labels)\n",
    "animals.info()\n",
    "\n"
   ]
  },
  {
   "cell_type": "code",
   "execution_count": 217,
   "id": "721d8f88-6a1b-43c9-ae86-e5ad74e3f989",
   "metadata": {},
   "outputs": [
    {
     "name": "stdout",
     "output_type": "stream",
     "text": [
      "  animal    name  age  visits priority\n",
      "a    cat   Daisy  2.5       1      yes\n",
      "b    cat   Bella  3.0       3      yes\n",
      "c  snake  Noodle  0.5       2       no\n",
      "a      cat\n",
      "b      cat\n",
      "c    snake\n",
      "d      dog\n",
      "e      dog\n",
      "f      cat\n",
      "g    snake\n",
      "h      cat\n",
      "i      dog\n",
      "j      dog\n",
      "Name: animal, dtype: object\n",
      "a    2.5\n",
      "b    3.0\n",
      "c    0.5\n",
      "d    NaN\n",
      "e    5.0\n",
      "f    2.0\n",
      "g    4.5\n",
      "h    NaN\n",
      "i    7.0\n",
      "j    3.0\n",
      "Name: age, dtype: float64\n",
      "   visits priority\n",
      "d       3      yes\n",
      "e       2       no\n",
      "i       2       no\n",
      "  animal     name  age  visits priority\n",
      "b    cat    Bella  3.0       3      yes\n",
      "d    dog  Charlie  NaN       3      yes\n",
      "f    cat    Molly  2.0       3       no\n",
      "   animal    name  age  visits priority\n",
      "a    True   Daisy  2.5       1      yes\n",
      "b    True   Bella  3.0       3      yes\n",
      "c    True  Noodle  0.5       2       no\n",
      "f    True   Molly  2.0       3       no\n",
      "j    True  Cooper  3.0       1       no\n",
      "   animal    name  age  visits priority\n",
      "a    True   Daisy  2.5       1      yes\n",
      "b    True   Bella  3.0       3      yes\n",
      "f    True   Molly  2.0       3       no\n",
      "j    True  Cooper  3.0       1       no\n"
     ]
    }
   ],
   "source": [
    "#Zadanie 2: \n",
    "\n",
    "#a) pierwsze 3 wiersze\n",
    "print(animals[0:3])\n",
    "\n",
    "#b) kolumny 'animal' i 'age'\n",
    "print(animals['animal'])\n",
    "print(animals['age'])\n",
    "\n",
    "#c) dane z wierszy 3, 4 i 8, zawarte w kolumnach 'visits' i 'priority'\n",
    "print(animals.loc[['d', 'e', 'i'], ['visits', 'priority']])\n",
    "\n",
    "#d) wiersze, w których liczba wizyt jest większa niż 2,\n",
    "visits_data = animals['visits'] > 2\n",
    "print(animals[visits_data])\n",
    "\n",
    "#e) wiersze, w których zwierzęciem jest kot i ma mniej niż 4 lata\n",
    "animal_data = animals['animal'] = 'cat' and animals['age'] < 4\n",
    "print(animals[animal_data])\n",
    "\n",
    "#f) wiersze, w których wiek zwierzęcia mieści się w przedziale od 2 do 4 lat (włącznie).\n",
    "age_data = (animals['age'] >= 2) & (animals['age'] <= 4)\n",
    "print(animals[age_data])\n"
   ]
  },
  {
   "cell_type": "code",
   "execution_count": 219,
   "id": "9d5c9ff1-8503-4a31-98bc-a73e0e34fd3a",
   "metadata": {},
   "outputs": [
    {
     "name": "stdout",
     "output_type": "stream",
     "text": [
      "  species     name  age  visits  price  total\n",
      "a    True    Daisy  2.5       1     20     20\n",
      "b    True    Bella  3.0       3     20     60\n",
      "c    True   Noodle  0.5       2     10     20\n",
      "d   False  Charlie  NaN       3     20     60\n",
      "e   False      Max  5.0       2     10     20\n",
      "f    True    Molly  2.0       3     10     30\n",
      "g   False    Draco  4.5       1     10     10\n",
      "h   False    Kenzo  NaN       1     20     20\n",
      "i   False     Milo  7.0       2     10     20\n",
      "j    True   Cooper  3.0       1     10     10\n",
      "k     dog    Buddy  5.5       2     10     20\n"
     ]
    }
   ],
   "source": [
    "#Zadanie 3:\n",
    "#a) dodaj do niej wiersz o indeksie 'k', zawierający informacje o nowym zwierzęciu – psie, wabiącym \n",
    "#się Buddy, w wieku 5.5 roku, któy odwiedził gabinet 2 razy w zwykłym trybie\n",
    "\n",
    "animals.loc['k'] = {'animal': 'dog',\n",
    "        'name': 'Buddy',\n",
    "        'age': 5.5,\n",
    "        'visits': 2,\n",
    "        'priority': 'no'}\n",
    "\n",
    "#b) dodaj do niej kolumnę 'price', zawierającą wartość 10 dla pacjentów zwykłych i 20 dla pacjentów priorytetowych\n",
    "animals['price'] = np.where(animals['priority'] == 'yes', 20, 10)\n",
    "\n",
    "#c) dodaj do niej kolumnę 'total', zawierajacą całkowity koszt wszystkich wizyt,\n",
    "animals['total'] = animals['visits'] * animals['price']\n",
    "\n",
    "#d) usuń z niej kolumnę 'priority'\n",
    "animals.drop('priority', axis=1, inplace=True)\n",
    "\n",
    "#e) zmień nazwę kolumny 'animal' na 'species',\n",
    "animals = animals.rename(columns = {'animal' : 'species'})\n",
    "print(animals)"
   ]
  },
  {
   "cell_type": "code",
   "execution_count": 110,
   "id": "b08df0cc-44a8-45b5-bdfb-e9bc71bafaf7",
   "metadata": {},
   "outputs": [
    {
     "name": "stdout",
     "output_type": "stream",
     "text": [
      "  species     name  age  visits  price  total\n",
      "a    True    Daisy  2.5       1     20     20\n",
      "b    True    Bella  3.0       3     20     60\n",
      "c    True   Noodle  0.5       2     10     20\n",
      "d   False  Charlie  NaN       3     20     60\n",
      "e   False      Max  5.0       2     10     20\n",
      "f    True    Molly  2.0       3     10     30\n",
      "g   False    Draco  4.5       1     10     10\n",
      "h   False    Kenzo  NaN       1     20     20\n",
      "i   False     Milo  7.0       2     10     20\n",
      "j    True   Cooper  3.0       1     10     10\n",
      "k     dog    Buddy  5.5       2     10     20\n"
     ]
    }
   ],
   "source": [
    "#Zadanie 4\n",
    "#a) przywróć ramce danych domyślny indeks całkowity, sprawiając jednocześnie, by nie została dodana\n",
    "#nowa kolumna z wcześniejszymi wartościami indeksu\n",
    "animals.reset_index(drop=True)\n",
    "print(animals)"
   ]
  },
  {
   "cell_type": "code",
   "execution_count": 112,
   "id": "1a677daf-465b-435c-bd3b-2e58bc2372b7",
   "metadata": {},
   "outputs": [
    {
     "name": "stdout",
     "output_type": "stream",
     "text": [
      "        species  age  visits  price  total\n",
      "name                                      \n",
      "Daisy      True  2.5       1     20     20\n",
      "Bella      True  3.0       3     20     60\n",
      "Noodle     True  0.5       2     10     20\n",
      "Charlie   False  NaN       3     20     60\n",
      "Max       False  5.0       2     10     20\n",
      "Molly      True  2.0       3     10     30\n",
      "Draco     False  4.5       1     10     10\n",
      "Kenzo     False  NaN       1     20     20\n",
      "Milo      False  7.0       2     10     20\n",
      "Cooper     True  3.0       1     10     10\n",
      "Buddy       dog  5.5       2     10     20\n"
     ]
    }
   ],
   "source": [
    "#b) utwórz indeks z kolumny 'name'\n",
    "animals.set_index('name', inplace = True)\n",
    "print(animals)"
   ]
  },
  {
   "cell_type": "code",
   "execution_count": 114,
   "id": "0e505fae-f4d5-4261-83f0-49b6a1b9aa4f",
   "metadata": {},
   "outputs": [
    {
     "name": "stdout",
     "output_type": "stream",
     "text": [
      "        species  age  visits  price  total\n",
      "name                                      \n",
      "Daisy      True  2.5       1     20     20\n",
      "Bella      True  3.0       3     20     60\n",
      "Noodle     True  0.5       2     10     20\n",
      "Charlie   False  NaN       3     20     60\n",
      "Molly      True  2.0       3     10     30\n",
      "Draco     False  4.5       1     10     10\n",
      "Kenzo     False  NaN       1     20     20\n",
      "Milo      False  7.0       2     10     20\n",
      "Cooper     True  3.0       1     10     10\n",
      "Buddy       dog  5.5       2     10     20\n"
     ]
    }
   ],
   "source": [
    "#c) usuń z ramki danych wiersz, zawierający informacje o psie, wabiącym się Max\n",
    "animals.drop('Max', inplace = True)\n",
    "print(animals)"
   ]
  },
  {
   "cell_type": "code",
   "execution_count": 116,
   "id": "4448fa44-a452-4485-b6e1-5b47e29c17e3",
   "metadata": {},
   "outputs": [
    {
     "name": "stdout",
     "output_type": "stream",
     "text": [
      "      name species  age  visits  price  total\n",
      "0    Daisy    True  2.5       1     20     20\n",
      "1    Bella    True  3.0       3     20     60\n",
      "2   Noodle    True  0.5       2     10     20\n",
      "3  Charlie   False  NaN       3     20     60\n",
      "4    Molly    True  2.0       3     10     30\n",
      "5    Draco   False  4.5       1     10     10\n",
      "6    Kenzo   False  NaN       1     20     20\n",
      "7     Milo   False  7.0       2     10     20\n",
      "8   Cooper    True  3.0       1     10     10\n",
      "9    Buddy     dog  5.5       2     10     20\n"
     ]
    }
   ],
   "source": [
    "#d) przywróć ramce danych domyślny indeks całkowity, sprawiając jednocześnie, by z istniejącego\n",
    "#indeksu uczynić kolumnę danych w ramce\n",
    "animals.reset_index(inplace = True)\n",
    "print(animals)"
   ]
  },
  {
   "cell_type": "code",
   "execution_count": 118,
   "id": "17c75265-cfee-46d7-9ea9-3a0c31611735",
   "metadata": {},
   "outputs": [
    {
     "name": "stdout",
     "output_type": "stream",
     "text": [
      "      name species  age  visits  price  total\n",
      "0    Daisy     NaN  2.5       1     20     20\n",
      "1    Bella     NaN  3.0       3     20     60\n",
      "2   Noodle     NaN  0.5       2     10     20\n",
      "3  Charlie     NaN  NaN       3     20     60\n",
      "4    Molly     NaN  2.0       3     10     30\n",
      "5    Draco     NaN  4.5       1     10     10\n",
      "6    Kenzo     NaN  NaN       1     20     20\n",
      "7     Milo     NaN  7.0       2     10     20\n",
      "8   Cooper     NaN  3.0       1     10     10\n",
      "9    Buddy     DOG  5.5       2     10     20\n"
     ]
    }
   ],
   "source": [
    "#Zadanie 5:\n",
    "#a) zamień w kolumnie 'species' ciągi znaków na pisane samymi wielkimi literam\n",
    "animals['species'] = animals['species'].str.upper()\n",
    "print(animals)"
   ]
  },
  {
   "cell_type": "code",
   "execution_count": 120,
   "id": "d3990ff1-8fdd-4529-b156-ef3bf9bdbcf8",
   "metadata": {},
   "outputs": [],
   "source": [
    "#b) zapisz tę ramkę danych do pliku CSV o nazwie 'animals.csv' – spraw, by nie zawierał on niejawnych\n",
    "#(numerycznych) indeksów wierszy\n",
    "animals.to_csv('animals.csv', index = False)"
   ]
  },
  {
   "cell_type": "code",
   "execution_count": 129,
   "id": "fe7f5b00-2d82-488c-9fb9-9e98259400b5",
   "metadata": {},
   "outputs": [
    {
     "name": "stdout",
     "output_type": "stream",
     "text": [
      "      name species  age  visits  price  total\n",
      "0    Daisy     NaN  2.5       1     20     20\n",
      "1    Bella     NaN  3.0       3     20     60\n",
      "2   Noodle     NaN  0.5       2     10     20\n",
      "3  Charlie     NaN  NaN       3     20     60\n",
      "4    Molly     NaN  2.0       3     10     30\n",
      "5    Draco     NaN  4.5       1     10     10\n",
      "6    Kenzo     NaN  NaN       1     20     20\n",
      "7     Milo     NaN  7.0       2     10     20\n",
      "8   Cooper     NaN  3.0       1     10     10\n",
      "9    Buddy     DOG  5.5       2     10     20\n"
     ]
    }
   ],
   "source": [
    "#c) odpowiednim poleceniem systemu operacyjnego wyświetl zawartość utworzonego pliku\n",
    "animals = pd.read_csv('animals.csv')\n",
    "print(animals)"
   ]
  },
  {
   "cell_type": "code",
   "execution_count": 221,
   "id": "7921ee84-6ef7-4b87-a52d-e3c4b655ac72",
   "metadata": {},
   "outputs": [],
   "source": [
    "#Zadanie 6\n",
    "#a) wczytaj jego zawartość do ramki danych weather\n",
    "weather = pd.read_csv('weather.csv')"
   ]
  },
  {
   "cell_type": "code",
   "execution_count": 223,
   "id": "0754c0b6-a38c-4b12-bf37-310c230f0565",
   "metadata": {},
   "outputs": [],
   "source": [
    "#b) usuń z otrzymanej ramki danych kolumnę 'Location'\n",
    "weather = weather.drop(columns = ['Location'])"
   ]
  },
  {
   "cell_type": "code",
   "execution_count": 225,
   "id": "cdc448e9-122e-499c-93f9-763aeb8e86b7",
   "metadata": {},
   "outputs": [],
   "source": [
    "#c) zmodyfikuj kolumnę 'Date' tak, by zawierała ona standardowe znaczniki czasowe\n",
    "weather['Date'] = pd.to_datetime(weather['Date'])"
   ]
  },
  {
   "cell_type": "code",
   "execution_count": 229,
   "id": "ec844fc8-238b-4fb5-9ff5-18bbcd410987",
   "metadata": {},
   "outputs": [
    {
     "name": "stdout",
     "output_type": "stream",
     "text": [
      "<class 'pandas.core.frame.DataFrame'>\n",
      "RangeIndex: 366 entries, 0 to 365\n",
      "Data columns (total 23 columns):\n",
      " #   Column         Non-Null Count  Dtype         \n",
      "---  ------         --------------  -----         \n",
      " 0   Date           366 non-null    datetime64[ns]\n",
      " 1   MinTemp        366 non-null    float64       \n",
      " 2   MaxTemp        366 non-null    float64       \n",
      " 3   Rainfall       366 non-null    float64       \n",
      " 4   Evaporation    366 non-null    float64       \n",
      " 5   Sunshine       363 non-null    float64       \n",
      " 6   WindGustDir    363 non-null    object        \n",
      " 7   WindGustSpeed  364 non-null    float64       \n",
      " 8   WindDir9am     335 non-null    object        \n",
      " 9   WindDir3pm     365 non-null    object        \n",
      " 10  WindSpeed9am   359 non-null    float64       \n",
      " 11  WindSpeed3pm   366 non-null    int64         \n",
      " 12  Humidity9am    366 non-null    int64         \n",
      " 13  Humidity3pm    366 non-null    int64         \n",
      " 14  Pressure9am    366 non-null    float64       \n",
      " 15  Pressure3pm    366 non-null    float64       \n",
      " 16  Cloud9am       366 non-null    int64         \n",
      " 17  Cloud3pm       366 non-null    int64         \n",
      " 18  Temp9am        366 non-null    float64       \n",
      " 19  Temp3pm        366 non-null    float64       \n",
      " 20  RainToday      366 non-null    object        \n",
      " 21  RISK_MM        366 non-null    float64       \n",
      " 22  RainTomorrow   366 non-null    object        \n",
      "dtypes: datetime64[ns](1), float64(12), int64(5), object(5)\n",
      "memory usage: 65.9+ KB\n",
      "          Date  MinTemp  MaxTemp  Rainfall  Evaporation  Sunshine WindGustDir  \\\n",
      "359 2008-10-25      3.3     25.5       0.0          5.2      10.8           N   \n",
      "360 2008-10-26      7.9     26.1       0.0          6.8       3.5         NNW   \n",
      "361 2008-10-27      9.0     30.7       0.0          7.6      12.1         NNW   \n",
      "362 2008-10-28      7.1     28.4       0.0         11.6      12.7           N   \n",
      "363 2008-10-29     12.5     19.9       0.0          8.4       5.3         ESE   \n",
      "364 2008-10-30     12.5     26.9       0.0          5.0       7.1          NW   \n",
      "365 2008-10-31     12.3     30.2       0.0          6.0      12.6          NW   \n",
      "\n",
      "     WindGustSpeed WindDir9am WindDir3pm  ...  Humidity3pm  Pressure9am  \\\n",
      "359           43.0          N        NNW  ...           16       1018.8   \n",
      "360           43.0        NaN        WNW  ...           20       1017.6   \n",
      "361           76.0        SSE         NW  ...           15       1016.1   \n",
      "362           48.0        NNW        NNW  ...           22       1020.0   \n",
      "363           43.0        ENE        ENE  ...           47       1024.0   \n",
      "364           46.0        SSW        WNW  ...           39       1021.0   \n",
      "365           78.0         NW        WNW  ...           13       1009.6   \n",
      "\n",
      "     Pressure3pm  Cloud9am  Cloud3pm  Temp9am  Temp3pm  RainToday  RISK_MM  \\\n",
      "359       1014.6         0         3     12.0     24.8         No      0.0   \n",
      "360       1014.2         5         8     16.3     25.9         No      0.0   \n",
      "361       1010.8         1         3     20.4     30.0         No      0.0   \n",
      "362       1016.9         0         1     17.2     28.2         No      0.0   \n",
      "363       1022.8         3         2     14.5     18.3         No      0.0   \n",
      "364       1016.2         6         7     15.8     25.9         No      0.0   \n",
      "365       1009.2         1         1     23.8     28.6         No      0.0   \n",
      "\n",
      "     RainTomorrow  \n",
      "359            No  \n",
      "360            No  \n",
      "361            No  \n",
      "362            No  \n",
      "363            No  \n",
      "364            No  \n",
      "365            No  \n",
      "\n",
      "[7 rows x 23 columns]\n"
     ]
    }
   ],
   "source": [
    "#d) wyświetl informacje o zmodyfikowanej ramce danych i jej strukturze oraz jej ostatnich 7 wierszy\n",
    "weather.info()\n",
    "print(weather.tail(7))"
   ]
  },
  {
   "cell_type": "code",
   "execution_count": 169,
   "id": "e9a644b8-9935-49c4-be7f-5a604535de05",
   "metadata": {},
   "outputs": [],
   "source": [
    "#Zadanie 7\n",
    "#a) przekształć dane w kolumnach 'RainToday' i 'RainTomorrow' na typ logiczny (boolean), odwzoro?\n",
    "#wując wartości 'Yes' na True i 'No' na False,\n",
    "\n",
    "weather['RainToday'] = weather['RainToday'].map({'Yes': True, 'No': False})\n",
    "weather['RainTomorrow'] = weather['RainTomorrow'].map({'Yes': True, 'No': False})\n"
   ]
  },
  {
   "cell_type": "code",
   "execution_count": 171,
   "id": "4ec636f8-eca4-4117-b5e2-8e182104a5f8",
   "metadata": {},
   "outputs": [],
   "source": [
    "#b) przekształć dane w kolumnach, zawierających dane o kierunku wiatru, na typ kategoryczny\n",
    "#(category),\n",
    "weather['WindGustDir'] = weather['WindGustDir'].astype('category')\n",
    "weather['WindDir9am'] = weather['WindDir9am'].astype('category')\n",
    "weather['WindDir3pm'] = weather['WindDir3pm'].astype('category')"
   ]
  },
  {
   "cell_type": "code",
   "execution_count": 173,
   "id": "16a36106-5b28-4762-b2a2-102bf503921a",
   "metadata": {},
   "outputs": [
    {
     "name": "stdout",
     "output_type": "stream",
     "text": [
      "<class 'pandas.core.frame.DataFrame'>\n",
      "RangeIndex: 366 entries, 0 to 365\n",
      "Data columns (total 23 columns):\n",
      " #   Column         Non-Null Count  Dtype         \n",
      "---  ------         --------------  -----         \n",
      " 0   Date           366 non-null    datetime64[ns]\n",
      " 1   MinTemp        366 non-null    float64       \n",
      " 2   MaxTemp        366 non-null    float64       \n",
      " 3   Rainfall       366 non-null    float64       \n",
      " 4   Evaporation    366 non-null    float64       \n",
      " 5   Sunshine       363 non-null    float64       \n",
      " 6   WindGustDir    363 non-null    category      \n",
      " 7   WindGustSpeed  364 non-null    float64       \n",
      " 8   WindDir9am     335 non-null    category      \n",
      " 9   WindDir3pm     365 non-null    category      \n",
      " 10  WindSpeed9am   359 non-null    float64       \n",
      " 11  WindSpeed3pm   366 non-null    int64         \n",
      " 12  Humidity9am    366 non-null    int64         \n",
      " 13  Humidity3pm    366 non-null    int64         \n",
      " 14  Pressure9am    366 non-null    float64       \n",
      " 15  Pressure3pm    366 non-null    float64       \n",
      " 16  Cloud9am       366 non-null    int64         \n",
      " 17  Cloud3pm       366 non-null    int64         \n",
      " 18  Temp9am        366 non-null    float64       \n",
      " 19  Temp3pm        366 non-null    float64       \n",
      " 20  RainToday      0 non-null      object        \n",
      " 21  RISK_MM        366 non-null    float64       \n",
      " 22  RainTomorrow   0 non-null      object        \n",
      "dtypes: category(3), datetime64[ns](1), float64(12), int64(5), object(2)\n",
      "memory usage: 60.4+ KB\n"
     ]
    }
   ],
   "source": [
    "#c) wyświetl informacje o zmodyfikowanej ramce danych i jej strukturze,\n",
    "weather.info()"
   ]
  },
  {
   "cell_type": "code",
   "execution_count": 177,
   "id": "d487b837-9837-40eb-82d1-6205cfa888b5",
   "metadata": {},
   "outputs": [
    {
     "name": "stdout",
     "output_type": "stream",
     "text": [
      "          Date  MinTemp  MaxTemp  Rainfall  Evaporation  Sunshine WindGustDir  \\\n",
      "92  2008-02-01     16.0     23.8       2.2          5.4       6.2         SSE   \n",
      "93  2008-02-02     14.9     28.8       0.0          5.8       8.1         NNE   \n",
      "94  2008-02-03     17.1     29.6       0.0          5.8       9.2           E   \n",
      "95  2008-02-04     18.2     22.6       1.8          8.0       0.0         ENE   \n",
      "96  2008-02-05     16.8     22.8       9.0          2.8       0.3         ESE   \n",
      "97  2008-02-06     13.6     27.4       1.0          2.8       8.0           W   \n",
      "98  2008-02-07     14.5     24.2       0.0          6.8       5.9         SSW   \n",
      "99  2008-02-08     12.4     19.9      16.2          5.4       5.6         ENE   \n",
      "100 2008-02-09     10.4     20.9       0.0          4.0       8.9         SSE   \n",
      "101 2008-02-10      9.1     23.1       0.0          5.8       9.6         ENE   \n",
      "\n",
      "     WindGustSpeed WindDir9am WindDir3pm  ...  Humidity3pm  Pressure9am  \\\n",
      "92            30.0         SE        ESE  ...           49       1018.9   \n",
      "93            30.0        SSE        NNE  ...           44       1018.2   \n",
      "94            48.0         SE        ESE  ...           38       1016.7   \n",
      "95            33.0        SSE        ENE  ...           76       1014.4   \n",
      "96            30.0          S        SSE  ...           71       1010.0   \n",
      "97            52.0         NW        WNW  ...           41       1002.1   \n",
      "98            61.0          N        NNW  ...           76        999.4   \n",
      "99            41.0        ESE        ESE  ...           58       1007.6   \n",
      "100           33.0          S          S  ...           51       1007.7   \n",
      "101           41.0        SSE          W  ...           37       1013.6   \n",
      "\n",
      "     Pressure3pm  Cloud9am  Cloud3pm  Temp9am  Temp3pm  RainToday  RISK_MM  \\\n",
      "92        1017.1         8         7     16.5     22.9        NaN      0.0   \n",
      "93        1014.5         7         2     19.1     27.0        NaN      0.0   \n",
      "94        1012.8         6         7     21.7     29.1        NaN      1.8   \n",
      "95        1011.5         8         8     18.5     22.1        NaN      9.0   \n",
      "96        1007.8         8         8     18.4     21.5        NaN      1.0   \n",
      "97         997.5         4         7     18.7     26.5        NaN      0.0   \n",
      "98         998.9         7         7     17.9     20.3        NaN     16.2   \n",
      "99        1005.0         7         7     13.6     18.7        NaN      0.0   \n",
      "100       1006.8         6         6     13.8     18.7        NaN      0.0   \n",
      "101       1011.4         1         7     14.0     21.4        NaN      0.0   \n",
      "\n",
      "     RainTomorrow  \n",
      "92            NaN  \n",
      "93            NaN  \n",
      "94            NaN  \n",
      "95            NaN  \n",
      "96            NaN  \n",
      "97            NaN  \n",
      "98            NaN  \n",
      "99            NaN  \n",
      "100           NaN  \n",
      "101           NaN  \n",
      "\n",
      "[10 rows x 23 columns]\n"
     ]
    }
   ],
   "source": [
    "#d) wyświetl wiersze, zawierające informacje o pogodzie w pierwszej dekadzie lutego 2008,\n",
    "print(weather[(weather['Date'] >= '2008-02-01') & (weather['Date'] <= '2008-02-10')])"
   ]
  },
  {
   "cell_type": "code",
   "execution_count": 185,
   "id": "e130995a-4535-4aa0-8278-9dfe258093ea",
   "metadata": {},
   "outputs": [
    {
     "name": "stdout",
     "output_type": "stream",
     "text": [
      "          Date  MinTemp  MaxTemp  Rainfall  Evaporation  Sunshine WindGustDir  \\\n",
      "0   2007-11-01      8.0     24.3       0.0          3.4       6.3          NW   \n",
      "16  2007-11-17     13.8     31.2       0.0          7.2       8.4         ESE   \n",
      "17  2007-11-18     11.7     30.0       1.2          7.2      10.1           S   \n",
      "23  2007-11-24     12.0     24.3       0.4          1.2       7.5         NNE   \n",
      "29  2007-11-30     13.6     24.1       0.4          2.6       0.5         NNW   \n",
      "59  2007-12-30     15.4     35.0       0.0          9.6      13.0           E   \n",
      "117 2008-02-26     13.0     28.2       0.0          5.0      11.6          NW   \n",
      "150 2008-03-30      4.2     18.9       0.0          6.4      10.8         WNW   \n",
      "153 2008-04-02      5.3     23.3       0.0          3.6       5.6         NNW   \n",
      "157 2008-04-06      5.9     21.8       0.0          2.8       9.3           E   \n",
      "163 2008-04-12      6.1     24.1       0.0          4.6       6.1         WNW   \n",
      "168 2008-04-17      5.3     21.0       0.0          4.6       6.3         WNW   \n",
      "183 2008-05-02      2.1     17.3       0.0          1.6       9.2           W   \n",
      "185 2008-05-04     -0.9     16.7       0.0          2.4       9.3         NNW   \n",
      "192 2008-05-11      8.3     17.4       0.0          2.0       1.6           E   \n",
      "228 2008-06-16      6.4     16.9       0.0          2.6       5.9         SSW   \n",
      "229 2008-06-17      5.4     15.5       0.0          1.6       5.8         NNE   \n",
      "246 2008-07-04     -3.1     12.0       0.0          1.8       3.9         ESE   \n",
      "256 2008-07-14      2.7     16.5       0.0          0.6       8.9         NNW   \n",
      "270 2008-07-28     -1.6     10.7       1.4          0.8       9.1           S   \n",
      "296 2008-08-23      2.3     11.6       0.0          5.4       9.5           S   \n",
      "298 2008-08-25     -0.9     14.2       0.0          2.6       7.8         WNW   \n",
      "303 2008-08-30      0.5     16.3       0.0          1.8       4.1         NNW   \n",
      "314 2008-09-10     -2.7     15.2       0.0          4.0       9.7           N   \n",
      "321 2008-09-17      0.7     14.1       0.0          5.6       9.0         ENE   \n",
      "335 2008-10-01      1.4     20.6       0.0          5.4      11.1           N   \n",
      "345 2008-10-11      8.2     22.4       0.0          5.4      11.2          NW   \n",
      "350 2008-10-16      4.4     21.0       0.0          4.2      12.2          NW   \n",
      "364 2008-10-30     12.5     26.9       0.0          5.0       7.1          NW   \n",
      "\n",
      "     WindGustSpeed WindDir9am WindDir3pm  ...  Humidity3pm  Pressure9am  \\\n",
      "0             30.0         SW         NW  ...           29       1019.7   \n",
      "16            44.0        WSW          W  ...           23       1014.4   \n",
      "17            52.0         SW         NE  ...           26       1016.4   \n",
      "23            26.0        WSW         NE  ...           57       1020.7   \n",
      "29            30.0        SSW          S  ...           49       1017.2   \n",
      "59            39.0        SSW        ESE  ...           18       1017.4   \n",
      "117           44.0        WSW         NW  ...           27       1017.6   \n",
      "150           50.0        WSW        WNW  ...           34       1011.2   \n",
      "153           83.0        SSW         NW  ...           26       1018.0   \n",
      "157           35.0        SSW        NNW  ...           35       1028.0   \n",
      "163           35.0        SSW        WNW  ...           32       1019.2   \n",
      "168           26.0        SSW         NW  ...           44       1027.2   \n",
      "183           43.0        SSW        WNW  ...           38       1020.0   \n",
      "185           30.0         SW        NNW  ...           42       1022.7   \n",
      "192           20.0        WSW         NE  ...           52       1024.4   \n",
      "228           26.0        SSW        ESE  ...           51       1027.8   \n",
      "229           20.0        SSW        NNE  ...           58       1028.6   \n",
      "246           35.0        SSW         NE  ...           52       1030.5   \n",
      "256           41.0         SW        NNW  ...           51       1021.8   \n",
      "270           59.0        SSW          S  ...           56       1014.1   \n",
      "296           54.0        SSW        ESE  ...           38       1025.9   \n",
      "298           31.0        SSW          N  ...           34       1030.2   \n",
      "303           39.0        SSW        WSW  ...           45       1023.7   \n",
      "314           30.0         SW        WNW  ...           35       1022.8   \n",
      "321           20.0        SSW        NNW  ...           43       1026.7   \n",
      "335           46.0         SW          N  ...           16       1020.8   \n",
      "345           31.0        SSW         NW  ...           30       1027.8   \n",
      "350           28.0         SW         NW  ...           30       1025.7   \n",
      "364           46.0        SSW        WNW  ...           39       1021.0   \n",
      "\n",
      "     Pressure3pm  Cloud9am  Cloud3pm  Temp9am  Temp3pm  RainToday  RISK_MM  \\\n",
      "0         1015.0         7         7     14.4     23.6        NaN      3.6   \n",
      "16        1009.8         7         6     20.2     29.8        NaN      1.2   \n",
      "17        1013.0         1         5     20.1     28.6        NaN      0.6   \n",
      "23        1019.2         7         5     17.8     22.8        NaN      0.0   \n",
      "29        1013.3         8         7     17.3     23.2        NaN     22.6   \n",
      "59        1015.0         1         1     23.4     34.3        NaN      0.0   \n",
      "117       1014.4         3         6     17.4     27.0        NaN      0.0   \n",
      "150       1009.3         3         2     11.2     18.1        NaN      0.0   \n",
      "153       1010.5         1         8      9.5     22.5        NaN      2.6   \n",
      "157       1024.1         1         5     12.9     20.8        NaN      0.0   \n",
      "163       1015.8         7         3     11.5     23.7        NaN      2.0   \n",
      "168       1023.3         7         2     12.0     20.4        NaN      0.0   \n",
      "183       1017.3         1         2      8.7     15.9        NaN      0.0   \n",
      "185       1018.5         5         2      6.2     15.4        NaN      0.0   \n",
      "192       1021.5         7         7     13.5     17.2        NaN      0.0   \n",
      "228       1024.8         7         2      9.5     16.0        NaN      0.0   \n",
      "229       1025.5         7         1      9.4     14.9        NaN      0.0   \n",
      "246       1030.0         1         6      5.9     10.2        NaN      0.0   \n",
      "256       1019.0         5         1      6.7     15.9        NaN      0.0   \n",
      "270       1014.9         2         4      5.6      9.6        NaN      0.0   \n",
      "296       1025.5         1         1      6.7     11.1        NaN      0.0   \n",
      "298       1024.4         7         6      5.3     12.8        NaN      0.0   \n",
      "303       1017.5         7         8      6.2     15.4        NaN      4.0   \n",
      "314       1017.9         1         2      6.3     14.9        NaN      0.0   \n",
      "321       1022.1         7         1      7.4     13.7        NaN      0.0   \n",
      "335       1015.4         5         1     11.3     19.5        NaN      0.0   \n",
      "345       1023.8         1         3     13.6     20.6        NaN      0.0   \n",
      "350       1022.3         1         1      9.6     19.2        NaN      0.0   \n",
      "364       1016.2         6         7     15.8     25.9        NaN      0.0   \n",
      "\n",
      "     RainTomorrow  \n",
      "0             NaN  \n",
      "16            NaN  \n",
      "17            NaN  \n",
      "23            NaN  \n",
      "29            NaN  \n",
      "59            NaN  \n",
      "117           NaN  \n",
      "150           NaN  \n",
      "153           NaN  \n",
      "157           NaN  \n",
      "163           NaN  \n",
      "168           NaN  \n",
      "183           NaN  \n",
      "185           NaN  \n",
      "192           NaN  \n",
      "228           NaN  \n",
      "229           NaN  \n",
      "246           NaN  \n",
      "256           NaN  \n",
      "270           NaN  \n",
      "296           NaN  \n",
      "298           NaN  \n",
      "303           NaN  \n",
      "314           NaN  \n",
      "321           NaN  \n",
      "335           NaN  \n",
      "345           NaN  \n",
      "350           NaN  \n",
      "364           NaN  \n",
      "\n",
      "[29 rows x 23 columns]\n"
     ]
    }
   ],
   "source": [
    "#e) wyświetl wiersze, zawierające informacje o obserwacjach, w dniach, w których wiatr o godzinie\n",
    "#dziewiątej wiał z kierunków południowo?zachodnich.\n",
    "southwest = ['SW', 'SSW', 'WSW']\n",
    "print(weather[weather['WindDir9am'].isin(southwest)])"
   ]
  },
  {
   "cell_type": "code",
   "execution_count": 240,
   "id": "4ae4060a-67f1-4077-a9e4-9c6d9f865baf",
   "metadata": {},
   "outputs": [],
   "source": [
    "#Zadanie 8:\n",
    "#a) wczytaj z niego arkusz 'employee_details' do ramki danych emp_det, zaś arkusz 'performance' do\n",
    "#ramki danych emp_perf,\n",
    "emp_det = pd.read_excel('employee.xlsx', sheet_name = 'employee_details')\n",
    "emp_per = pd.read_excel('employee.xlsx', sheet_name = 'performance')"
   ]
  },
  {
   "cell_type": "code",
   "execution_count": 242,
   "id": "9e296de4-7dfd-4fce-8317-f6be3a5411fc",
   "metadata": {},
   "outputs": [],
   "source": [
    "#b) przekształć w tych ramkach danych kolumnę 'name' na indeks,\n",
    "emp_det.set_index('name', inplace=True)\n",
    "emp_per.set_index('name', inplace=True)"
   ]
  },
  {
   "cell_type": "code",
   "execution_count": 232,
   "id": "e3144da0-fa20-42da-817b-b0450a756126",
   "metadata": {},
   "outputs": [],
   "source": [
    "#c) połącz je kolumna po kolumnie do ramki danych o nazwie employees\n",
    "employees = pd.concat([emp_det, emp_per], axis='columns')"
   ]
  },
  {
   "cell_type": "code",
   "execution_count": 234,
   "id": "9d0a0fc0-67e1-4d0d-a69d-40a133edbdae",
   "metadata": {},
   "outputs": [],
   "source": [
    "#d) zameń nazwy kolumn tak, by zaczynały się od wielkiej litery\n",
    "employees.columns = employees.columns.str.capitalize()"
   ]
  },
  {
   "cell_type": "code",
   "execution_count": 236,
   "id": "2ad862c3-2381-48ee-bdb3-92d1d4f388cc",
   "metadata": {},
   "outputs": [
    {
     "name": "stdout",
     "output_type": "stream",
     "text": [
      "<class 'pandas.core.frame.DataFrame'>\n",
      "Index: 9 entries, Allen Smith to Leo Duck\n",
      "Data columns (total 6 columns):\n",
      " #   Column             Non-Null Count  Dtype  \n",
      "---  ------             --------------  -----  \n",
      " 0   Age                7 non-null      float64\n",
      " 1   Income             7 non-null      float64\n",
      " 2   Gender             7 non-null      object \n",
      " 3   Department         9 non-null      object \n",
      " 4   Grade              9 non-null      object \n",
      " 5   Performance_score  9 non-null      int64  \n",
      "dtypes: float64(2), int64(1), object(3)\n",
      "memory usage: 804.0+ bytes\n",
      "                Age   Income Gender  Department Grade  Performance_score\n",
      "name                                                                    \n",
      "Allen Smith    45.0      NaN    NaN  Operations    G3                723\n",
      "S Kumar         NaN  16000.0      F     Finance    G0                520\n",
      "Jack Morgan    32.0  35000.0      M     Finance    G2                674\n",
      "Ying Chin      45.0  65000.0      F       Sales    G3                556\n",
      "Dheeraj Patel  30.0  42000.0      F  Operations    G2                711\n",
      "Satyam Sharma   NaN  62000.0    NaN       Sales    G3                649\n",
      "James Authur   54.0      NaN      F  Operations    G3                 53\n",
      "Josh Wills     54.0  52000.0      F     Finance    G3                901\n",
      "Leo Duck       23.0  98000.0      M       Sales    G4                709\n"
     ]
    }
   ],
   "source": [
    "#e) wyświetl informacje o zmodyfikowanej ramce danych i jej strukturze oraz jej zawartość.\n",
    "employees.info()\n",
    "print(employees)"
   ]
  },
  {
   "cell_type": "code",
   "execution_count": 244,
   "id": "89b75580-3ab2-4fa1-877b-7a74a2a297b3",
   "metadata": {},
   "outputs": [],
   "source": [
    "#Zadanie 9:\n",
    "#a) utwórz z niej ramkę danych o nazwie emp_finance, wybierając pracowników działu finasowego,\n",
    "#zarabiających powyżej 20000,\n",
    "emp_finance = employees[(employees['Department'] == 'Finance') & (employees['Income'] > 20000)]"
   ]
  },
  {
   "cell_type": "code",
   "execution_count": 211,
   "id": "9a92756b-5c84-4dbd-8d1b-662887306d34",
   "metadata": {},
   "outputs": [],
   "source": [
    "#b) zapisz ramkę danych emp_finance do skoroszytu MS Excel o nazwie 'emp_finance.xlsx', umiesz?\n",
    "#czając dane w arkuszu o nazwie 'employee_finance'.\n",
    "emp_finance.to_excel('emp_finance.xlsx', sheet_name='employee_finance', index=False)"
   ]
  },
  {
   "cell_type": "code",
   "execution_count": null,
   "id": "0da1a6ea-25ff-45b8-a6c2-ecac1fdf3925",
   "metadata": {},
   "outputs": [],
   "source": []
  }
 ],
 "metadata": {
  "kernelspec": {
   "display_name": "Python 3 (ipykernel)",
   "language": "python",
   "name": "python3"
  },
  "language_info": {
   "codemirror_mode": {
    "name": "ipython",
    "version": 3
   },
   "file_extension": ".py",
   "mimetype": "text/x-python",
   "name": "python",
   "nbconvert_exporter": "python",
   "pygments_lexer": "ipython3",
   "version": "3.12.4"
  }
 },
 "nbformat": 4,
 "nbformat_minor": 5
}
